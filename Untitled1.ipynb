{
 "cells": [
  {
   "cell_type": "code",
   "execution_count": 5,
   "metadata": {},
   "outputs": [
    {
     "data": {
      "text/plain": [
       "{('a', 'at'), ('a', 'bat'), ('a', 'cat'), ('at', 'bat'), ('at', 'cat')}"
      ]
     },
     "execution_count": 5,
     "metadata": {},
     "output_type": "execute_result"
    }
   ],
   "source": [
    "def substrings(lst):\n",
    "    \n",
    "    lst1=[]\n",
    "    \n",
    "    l = len(lst) ** 2\n",
    "    \n",
    "    for i in range(l): \n",
    "        if lst[l % i] in lst[(l%i)+1]:\n",
    "        \n",
    "                    lst1.add((i,j))\n",
    "    return lst1\n",
    "substrings(['at', 'cat', 'bat'])\n",
    "                \n",
    "                \n",
    "                "
   ]
  },
  {
   "cell_type": "code",
   "execution_count": null,
   "metadata": {},
   "outputs": [],
   "source": [
    "l = 3 ** 2\n",
    "l % 3"
   ]
  }
 ],
 "metadata": {
  "kernelspec": {
   "display_name": "Python 3",
   "language": "python",
   "name": "python3"
  },
  "language_info": {
   "codemirror_mode": {
    "name": "ipython",
    "version": 3
   },
   "file_extension": ".py",
   "mimetype": "text/x-python",
   "name": "python",
   "nbconvert_exporter": "python",
   "pygments_lexer": "ipython3",
   "version": "3.7.9"
  }
 },
 "nbformat": 4,
 "nbformat_minor": 4
}
