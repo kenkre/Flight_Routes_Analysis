{
 "cells": [
  {
   "cell_type": "markdown",
   "metadata": {},
   "source": [
    "## Flight Routes Analysis\n",
    "\n",
    "#### Overview\n",
    "######  To Analyze Flight Routes around the world.\n",
    "\n",
    "#### Technologies Used\n",
    "###### python, pandas, matplotlib\n",
    "\n",
    "#### The Data\n",
    "\n",
    "###### Data Source - openflights.org \n",
    "\n",
    "Tables\n",
    "\n",
    "##### 1. airports\n",
    "\t\n",
    "Airport ID - Unique Id\n",
    "Name - Name of airport\n",
    "City - Main city served by airport\n",
    "Country -Country or territory where airport is located\n",
    "IATA -3-letter IATA code\n",
    "ICAO -4-letter ICAO code\n",
    "Latitude - Decimal degrees, usually to six significant digits. Negative is South, positive is North.\n",
    "Longitude - Decimal degrees, usually to six significant digits. Negative is West, positive is East.\n",
    "Altitude - In feet.\n",
    "Timezone - Hours offset from UTC. Fractional hours are expressed as decimals, eg. India is 5.5.\n",
    "DST - Daylight savings time\n",
    "Tz database time zone - Timezone in \"tz\" (Olson) format,\n",
    "Type Type of the airport\n",
    "Source Source of this data\n",
    "\n",
    "\n",
    "##### 2. airlines\n",
    "\n",
    "Airline ID - Unique identifier for this airline\n",
    "Name - Name of the airline.\n",
    "Alias - Alias of the airline\n",
    "IATA - 2-letter IATA code\n",
    "ICAO - 3-letter ICAO code\n",
    "Callsign - Airline callsign.\n",
    "Country - Country or territory where airline is originated\n",
    "Active\n",
    "\n",
    "\n",
    "##### 3. routes\n",
    "\n",
    "Airline - 2-letter (IATA) or 3-letter (ICAO) code of the airline.\n",
    "Airline ID - Unique identifier for airline\n",
    "Source airport - 3-letter (IATA) or 4-letter (ICAO) code of the source airport\n",
    "Source airport ID - Unique identifier for source airport\n",
    "Destination airport - 3-letter (IATA) or 4-letter (ICAO) code of the destination airport\n",
    "Destination airport ID - Unique identifier for destination airport\n",
    "Codeshare - \"Y\" if this flight is a codeshare\n",
    "Stops - Number of stops on this flight\n",
    "Equipment - 3-letter codes for plane type\n",
    "\n",
    "##### 4. planes\n",
    "\n",
    "Name - Full name of the aircraft\n",
    "IATA code - Unique three-letter IATA identifier for the aircraft\n",
    "ICAO code - Unique four-letter ICAO identifier for the aircraft\n",
    "\n",
    "##### 5. countries\n",
    "\n",
    "Name - Full name of the country\n",
    "iso_code - Unique two-letter ISO 3166-1 code for the country\n",
    "dafif_code - FIPS country codes as used in DAFIF\n",
    "\n"
   ]
  },
  {
   "cell_type": "markdown",
   "metadata": {},
   "source": [
    "#### Description\n",
    "\n",
    "I decided to analyze flight patterns in three regions USA, Europe and China as they are very close in the characteristics. \n"
   ]
  },
  {
   "cell_type": "markdown",
   "metadata": {},
   "source": [
    "| Syntax |Area                |GDP                |Population       |\n",
    "|------- |--------------------|-------------------|-----------------|\n",
    "| USA    |3.797 million sq mi |USD 20.54 trillion |328.2 million    |\n",
    "| EUROPE |3.926 million sq mi |USD 22.42 trillion |865.5 million    |\n",
    "| CHINA  |3.705 million sq mi |USD 13.61 trillion |1393 million     |"
   ]
  },
  {
   "cell_type": "markdown",
   "metadata": {},
   "source": [
    "#### Hypothesis "
   ]
  },
  {
   "cell_type": "markdown",
   "metadata": {},
   "source": [
    "𝐻0 : The average rate of Boeing planes on the US domestic routes is same as the average rate of Boeing planes on European domestic routes.\n",
    "\n",
    "𝐻𝑎 : The average rate of Boeing planes on the US domestic routes is not the same as the average rate of Boeing planes on European domestic routes.\n",
    "\n"
   ]
  },
  {
   "cell_type": "markdown",
   "metadata": {},
   "source": [
    "##### Conclusion"
   ]
  },
  {
   "cell_type": "markdown",
   "metadata": {},
   "source": [
    "p-value for Boeing on Domestic flights between Europe and US is 0.003110419863049442\n",
    "Since this value is less than alpha value (0.05), we reject the null hypothesis. "
   ]
  },
  {
   "cell_type": "markdown",
   "metadata": {},
   "source": [
    "#### Next Steps"
   ]
  },
  {
   "cell_type": "markdown",
   "metadata": {},
   "source": [
    "- Data cleanup \n",
    "- Probably install ggmap library and show 5 shortest routes between point A to point B. \n"
   ]
  },
  {
   "cell_type": "code",
   "execution_count": null,
   "metadata": {},
   "outputs": [],
   "source": []
  }
 ],
 "metadata": {
  "kernelspec": {
   "display_name": "Python 3",
   "language": "python",
   "name": "python3"
  },
  "language_info": {
   "codemirror_mode": {
    "name": "ipython",
    "version": 3
   },
   "file_extension": ".py",
   "mimetype": "text/x-python",
   "name": "python",
   "nbconvert_exporter": "python",
   "pygments_lexer": "ipython3",
   "version": "3.7.9"
  }
 },
 "nbformat": 4,
 "nbformat_minor": 4
}
